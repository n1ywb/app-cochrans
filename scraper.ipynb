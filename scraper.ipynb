{
 "cells": [
  {
   "cell_type": "code",
   "execution_count": 52,
   "metadata": {},
   "outputs": [],
   "source": [
    "from os import linesep"
   ]
  },
  {
   "cell_type": "code",
   "execution_count": 3,
   "metadata": {},
   "outputs": [],
   "source": [
    "import requests\n",
    "import requests_cache\n",
    "\n",
    "requests_cache.install_cache()"
   ]
  },
  {
   "cell_type": "code",
   "execution_count": 4,
   "metadata": {},
   "outputs": [],
   "source": [
    "links_html = '''<li class=\"menu__item is-leaf is-active-trail first leaf active-trail\"><a href=\"/fish/fishing-opportunities/sportfish-of-vermont/brook-trout\" class=\"menu__link is-active-trail active-trail active\">Brook Trout</a></li>\n",
    "<li class=\"menu__item is-leaf leaf\"><a href=\"/fish/fishing-opportunities/sportfish-of-vermont/brown-bullhead\" class=\"menu__link\">Brown Bullhead</a></li>\n",
    "<li class=\"menu__item is-leaf leaf\"><a href=\"/fish/fishing-opportunities/sportfish-of-vermont/brown-trout\" class=\"menu__link\">Brown Trout</a></li>\n",
    "<li class=\"menu__item is-leaf leaf\"><a href=\"/fish/fishing-opportunities/sportfish-of-vermont/chain-pickerel\" class=\"menu__link\">Chain Pickerel</a></li>\n",
    "<li class=\"menu__item is-leaf leaf\"><a href=\"/fish/fishing-opportunities/sportfish-of-vermont/lake-trout\" class=\"menu__link\">Lake Trout</a></li>\n",
    "<li class=\"menu__item is-leaf leaf\"><a href=\"/fish/fishing-opportunities/sportfish-of-vermont/landlocked-atlantic-salmon\" class=\"menu__link\">Landlocked Atlantic Salmon</a></li>\n",
    "<li class=\"menu__item is-leaf leaf\"><a href=\"/fish/fishing-opportunities/sportfish-of-vermont/largemouth-bass\" class=\"menu__link\">Largemouth Bass</a></li>\n",
    "<li class=\"menu__item is-leaf leaf\"><a href=\"/fish/fishing-opportunities/sportfish-of-vermont/northern-pike\" class=\"menu__link\">Northern Pike</a></li>\n",
    "<li class=\"menu__item is-leaf leaf\"><a href=\"/fish/fishing-opportunities/sportfish-of-vermont/panfish\" class=\"menu__link\">Panfish</a></li>\n",
    "<li class=\"menu__item is-leaf leaf\"><a href=\"/fish/fishing-opportunities/sportfish-of-vermont/rainbow-smelt\" class=\"menu__link\">Rainbow Smelt</a></li>\n",
    "<li class=\"menu__item is-leaf leaf\"><a href=\"/fish/fishing-opportunities/sportfish-of-vermont/rainbow-trout\" class=\"menu__link\">Rainbow Trout</a></li>\n",
    "<li class=\"menu__item is-leaf leaf\"><a href=\"/fish/fishing-opportunities/sportfish-of-vermont/smallmouth-bass\" class=\"menu__link\">Smallmouth Bass</a></li>\n",
    "<li class=\"menu__item is-leaf leaf\"><a href=\"/fish/fishing-opportunities/sportfish-of-vermont/walleye\" class=\"menu__link\">Walleye</a></li>\n",
    "<li class=\"menu__item is-leaf last leaf\"><a href=\"/fish/fishing-opportunities/sportfish-of-vermont/yellow-perch\" class=\"menu__link\">Yellow Perch</a></li>\n",
    "'''"
   ]
  },
  {
   "cell_type": "code",
   "execution_count": 5,
   "metadata": {},
   "outputs": [],
   "source": [
    "from bs4 import BeautifulSoup\n",
    "soup = BeautifulSoup(links_html, 'html.parser')"
   ]
  },
  {
   "cell_type": "code",
   "execution_count": 43,
   "metadata": {},
   "outputs": [],
   "source": [
    "links = [f\"https://vtfishandwildlife.com{a['href']}\" for a in soup.find_all('a')]"
   ]
  },
  {
   "cell_type": "code",
   "execution_count": 44,
   "metadata": {},
   "outputs": [
    {
     "data": {
      "text/plain": [
       "['https://vtfishandwildlife.com/fish/fishing-opportunities/sportfish-of-vermont/brook-trout',\n",
       " 'https://vtfishandwildlife.com/fish/fishing-opportunities/sportfish-of-vermont/brown-bullhead',\n",
       " 'https://vtfishandwildlife.com/fish/fishing-opportunities/sportfish-of-vermont/brown-trout',\n",
       " 'https://vtfishandwildlife.com/fish/fishing-opportunities/sportfish-of-vermont/chain-pickerel',\n",
       " 'https://vtfishandwildlife.com/fish/fishing-opportunities/sportfish-of-vermont/lake-trout',\n",
       " 'https://vtfishandwildlife.com/fish/fishing-opportunities/sportfish-of-vermont/landlocked-atlantic-salmon',\n",
       " 'https://vtfishandwildlife.com/fish/fishing-opportunities/sportfish-of-vermont/largemouth-bass',\n",
       " 'https://vtfishandwildlife.com/fish/fishing-opportunities/sportfish-of-vermont/northern-pike',\n",
       " 'https://vtfishandwildlife.com/fish/fishing-opportunities/sportfish-of-vermont/panfish',\n",
       " 'https://vtfishandwildlife.com/fish/fishing-opportunities/sportfish-of-vermont/rainbow-smelt',\n",
       " 'https://vtfishandwildlife.com/fish/fishing-opportunities/sportfish-of-vermont/rainbow-trout',\n",
       " 'https://vtfishandwildlife.com/fish/fishing-opportunities/sportfish-of-vermont/smallmouth-bass',\n",
       " 'https://vtfishandwildlife.com/fish/fishing-opportunities/sportfish-of-vermont/walleye',\n",
       " 'https://vtfishandwildlife.com/fish/fishing-opportunities/sportfish-of-vermont/yellow-perch']"
      ]
     },
     "execution_count": 44,
     "metadata": {},
     "output_type": "execute_result"
    }
   ],
   "source": [
    "links"
   ]
  },
  {
   "cell_type": "code",
   "execution_count": 45,
   "metadata": {},
   "outputs": [],
   "source": [
    "responses = [requests.get(link) for link in links]"
   ]
  },
  {
   "cell_type": "code",
   "execution_count": 47,
   "metadata": {},
   "outputs": [],
   "source": [
    "resp_soups = [BeautifulSoup(resp.content) for resp in responses]"
   ]
  },
  {
   "cell_type": "code",
   "execution_count": 86,
   "metadata": {},
   "outputs": [],
   "source": [
    "lines = [\n",
    "    f\"\"\"'{'_'.join(resp_soup.article.em.text.lower().split())}': html`\n",
    "{linesep.join([str(tag) for tag in resp_soup.article.div.div.div.find_all()[3:]])}\n",
    "`,\n",
    "\"\"\"\n",
    "    for link, resp_soup in zip(links, resp_soups)\n",
    "]"
   ]
  },
  {
   "cell_type": "code",
   "execution_count": 87,
   "metadata": {},
   "outputs": [],
   "source": [
    "with open('app-fish/src/fish-list.js', 'w') as outfile:\n",
    "    outfile.write('\\n'.join(['export default {', *lines, '}']))"
   ]
  },
  {
   "cell_type": "code",
   "execution_count": null,
   "metadata": {},
   "outputs": [],
   "source": []
  }
 ],
 "metadata": {
  "kernelspec": {
   "display_name": "Python 3",
   "language": "python",
   "name": "python3"
  },
  "language_info": {
   "codemirror_mode": {
    "name": "ipython",
    "version": 3
   },
   "file_extension": ".py",
   "mimetype": "text/x-python",
   "name": "python",
   "nbconvert_exporter": "python",
   "pygments_lexer": "ipython3",
   "version": "3.8.0"
  }
 },
 "nbformat": 4,
 "nbformat_minor": 4
}
